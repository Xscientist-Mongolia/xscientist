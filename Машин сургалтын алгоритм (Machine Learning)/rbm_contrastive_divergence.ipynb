{
 "cells": [
  {
   "cell_type": "code",
   "execution_count": 91,
   "metadata": {},
   "outputs": [],
   "source": [
    "import tensorflow as tf\n",
    "import numpy as np\n",
    "import sys\n",
    "import matplotlib.pyplot as plt"
   ]
  },
  {
   "cell_type": "code",
   "execution_count": 92,
   "metadata": {},
   "outputs": [],
   "source": [
    "class RBM:\n",
    "        def __init__(self,\n",
    "                 n_visible,\n",
    "                 n_hidden,\n",
    "                 learning_rate=0.01,\n",
    "                 momentum=0.95,\n",
    "                 use_tqdm=False,\n",
    "                 tqdm=None    \n",
    "                ):\n",
    "            \n",
    "            self._use_tqdm = use_tqdm\n",
    "            self._tqdm = None\n",
    "\n",
    "            if use_tqdm or tqdm is not None:\n",
    "                from tqdm import tqdm\n",
    "            self._tqdm = tqdm\n",
    "            self.n_visible = n_visible\n",
    "            self.n_hidden = n_hidden\n",
    "            self.learning_rate = learning_rate \n",
    "            self.momentum = momentum\n",
    "            #initial weights\n",
    "\n",
    "            self.w = tf.Variable(tf.zeros([self.n_visible, self.n_hidden]), dtype=tf.float32)\n",
    "            self.visible_bias = tf.Variable(tf.zeros([self.n_visible]), dtype=tf.float32)\n",
    "            self.hidden_bias = tf.Variable(tf.zeros([self.n_hidden]), dtype=tf.float32)\n",
    "            \n",
    "            self.delta_w = tf.Variable(tf.zeros([self.n_visible, self.n_hidden]), dtype=tf.float32)\n",
    "            self.delta_visible_bias = tf.Variable(tf.zeros([self.n_visible]), dtype=tf.float32)\n",
    "            self.delta_hidden_bias = tf.Variable(tf.zeros([self.n_hidden]), dtype=tf.float32)\n",
    "\n",
    "            \n",
    "        def contrastive_divergence(self,batch_x):\n",
    "            \n",
    "            \n",
    "            g = tf.Variable(tf.zeros([self.n_visible, self.n_hidden]), dtype=tf.float32)\n",
    "            g_vb = tf.Variable(tf.zeros([self.n_visible]), dtype=tf.float32)\n",
    "            g_hb = tf.Variable(tf.zeros([self.n_hidden]), dtype=tf.float32)\n",
    "            for i in range(10):\n",
    "                self.x=batch_x[i].reshape(1,28*28)\n",
    "                \n",
    "                hidden_p = tf.nn.sigmoid(tf.matmul(self.x, self.w) + self.hidden_bias)\n",
    "                hidden_p = self.sample_prob(hidden_p)\n",
    "                \n",
    "                visible_recon_p = tf.nn.sigmoid(tf.matmul(sample_bernoulli(hidden_p), tf.transpose(self.w)) + self.visible_bias)\n",
    "                hidden_recon_p = tf.nn.sigmoid(tf.matmul(visible_recon_p, self.w) + self.hidden_bias)\n",
    "\n",
    "                positive_grad = tf.matmul(tf.transpose(self.x), hidden_p)\n",
    "                negative_grad = tf.matmul(tf.transpose(visible_recon_p), hidden_recon_p)\n",
    "\n",
    "                \n",
    "                #compute gradient\n",
    "                delta_w_new = self.learning_rate*(positive_grad - negative_grad)\n",
    "                delta_visible_bias_new = self.learning_rate*(tf.reduce_mean(self.x - visible_recon_p, 0))\n",
    "                delta_hidden_bias_new = self.learning_rate*(tf.reduce_mean(hidden_p - hidden_recon_p, 0))\n",
    "                \n",
    "                update_delta_w = self.delta_w.assign(delta_w_new)\n",
    "                update_delta_visible_bias = self.delta_visible_bias.assign(delta_visible_bias_new)\n",
    "                update_delta_hidden_bias = self.delta_hidden_bias.assign(delta_hidden_bias_new)\n",
    "                \n",
    "                #Accumulate\n",
    "                g=g+update_delta_w\n",
    "                g_vb=g_vb+update_delta_visible_bias\n",
    "                g_hb=g_hb+update_delta_hidden_bias\n",
    "                \n",
    "            #Update Parameter\n",
    "            update_w = self.w.assign(self.w + g/10)\n",
    "            update_visible_bias = self.visible_bias.assign(self.visible_bias + g_vb/10)\n",
    "            update_hidden_bias = self.hidden_bias.assign(self.hidden_bias + g_hb/10)\n",
    "\n",
    "            self.update_deltas = [update_delta_w, update_delta_visible_bias, update_delta_hidden_bias]\n",
    "            self.update_weights = [update_w, update_visible_bias, update_hidden_bias]\n",
    "\n",
    "        \n",
    "        def sample_prob(self, probs):\n",
    "            return tf.nn.relu(tf.sign(probs - tf.random.uniform(tf.shape(probs))))    \n",
    "        \n",
    "        def reconstruct(self,batch_x):\n",
    "        \n",
    "            hidden = tf.nn.sigmoid(tf.matmul(batch_x, (self.update_weights[0])) \n",
    "                                   + (self.update_weights[2]))\n",
    "            hidden = self.sample_prob(hidden)\n",
    "            visible = tf.nn.sigmoid(tf.matmul(hidden, tf.transpose((self.update_weights[0]))) \n",
    "                                    + (self.update_weights[1]))\n",
    "            return visible\n",
    "        \n",
    "        def get_err(self,batch_x):\n",
    "            \n",
    "            error=0\n",
    "            for i in range(10):\n",
    "                self.x=batch_x[i].reshape(1,28*28)\n",
    "                \n",
    "                self.compute_hidden = tf.nn.sigmoid(tf.matmul(self.x, self.w) + self.hidden_bias)\n",
    "                self.compute_visible = tf.nn.sigmoid(tf.matmul(self.compute_hidden, tf.transpose(self.w)) + self.visible_bias)\n",
    "                error=error+tf.reduce_mean(tf.square(self.x - self.compute_visible))\n",
    "            \n",
    "            self.compute_err = error/10  \n",
    "            \n",
    "            return self.compute_err\n",
    "        \n",
    "        def get_reconstruction_cross_entropy(self,batch_x):\n",
    "            \n",
    "            hidden = tf.nn.sigmoid(tf.matmul(batch_x, (self.update_weights[0])) \n",
    "                                   + (self.update_weights[2]))\n",
    "            hidden = self.sample_prob(hidden)\n",
    "            \n",
    "            visible = tf.nn.sigmoid(tf.matmul(hidden, tf.transpose((self.update_weights[0]))) \n",
    "                                    + (self.update_weights[1]))\n",
    "\n",
    "            cross_entropy = -tf.reduce_mean(tf.reduce_sum(batch_x * np.log(visible) \n",
    "                                                    +(1 - batch_x) * np.log(1-visible),axis=1))\n",
    "\n",
    "            return cross_entropy \n",
    "        \n",
    "        def fit(self,\n",
    "                data_x,\n",
    "                n_epoches=10,\n",
    "                batch_size=10,\n",
    "                shuffle=True,\n",
    "                verbose=True):\n",
    "            assert n_epoches > 0\n",
    "\n",
    "            n_data = data_x.shape[0]\n",
    "\n",
    "            if batch_size > 0:\n",
    "                n_batches = n_data // batch_size + (0 if n_data % batch_size == 0 else 1)\n",
    "            else:\n",
    "                n_batches = 1\n",
    "\n",
    "            if shuffle:\n",
    "                data_x_cpy = data_x.copy()\n",
    "                inds = np.arange(n_data)\n",
    "            else:\n",
    "                data_x_cpy = data_x\n",
    "\n",
    "            errs = []\n",
    "\n",
    "            for e in range(n_epoches):\n",
    "                if verbose:\n",
    "                    print('Epoch: {:d}'.format(e))\n",
    "\n",
    "                epoch_errs = np.zeros((n_batches,))\n",
    "                epoch_errs_ptr = 0\n",
    "\n",
    "                if shuffle:\n",
    "                    np.random.shuffle(inds)\n",
    "                    data_x_cpy = data_x_cpy[inds,:,:]\n",
    "\n",
    "                r_batches = range(n_batches)\n",
    "\n",
    "                if verbose and self._use_tqdm:\n",
    "                    r_batches = self._tqdm(r_batches, desc='Epoch: {:d}'.format(e), ascii=True, file=sys.stdout)\n",
    "\n",
    "                for b in r_batches:\n",
    "                    batch_x = data_x_cpy[b * batch_size:(b + 1) * batch_size]\n",
    "                    self.contrastive_divergence(batch_x)\n",
    "                    batch_err = self.get_err(batch_x)\n",
    "                    epoch_errs[epoch_errs_ptr] = batch_err\n",
    "                    epoch_errs_ptr += 1\n",
    "\n",
    "\n",
    "                if verbose:\n",
    "                    err_mean = epoch_errs.mean()\n",
    "                    if self._use_tqdm:\n",
    "                        self._tqdm.write('Train error: {:.4f}'.format(err_mean))\n",
    "                        self._tqdm.write('')\n",
    "                    else:\n",
    "                        print('Train error: {:.4f}'.format(err_mean))\n",
    "                        print('')\n",
    "                    sys.stdout.flush()\n",
    "\n",
    "                errs = np.hstack([errs, epoch_errs])\n",
    "\n",
    "            return errs\n",
    "     "
   ]
  },
  {
   "cell_type": "code",
   "execution_count": 93,
   "metadata": {},
   "outputs": [],
   "source": [
    "def sample_bernoulli(probs):\n",
    "    return tf.nn.relu(tf.sign(probs - tf.random.uniform(tf.shape(probs)))) "
   ]
  },
  {
   "cell_type": "code",
   "execution_count": 94,
   "metadata": {},
   "outputs": [
    {
     "name": "stdout",
     "output_type": "stream",
     "text": [
      "Number of original training examples: 60000\n",
      "Number of original test examples: 10000\n"
     ]
    }
   ],
   "source": [
    "(x_train, y_train), (x_test, y_test) = tf.keras.datasets.mnist.load_data()\n",
    "\n",
    "# Rescale the images from [0,255] to the [0.0,1.0] range.\n",
    "x_train_complete, x_test_complete = x_train[..., np.newaxis]/255.0, x_test[..., np.newaxis]/255.0\n",
    "\n",
    "print(\"Number of original training examples:\", len(x_train_complete))\n",
    "print(\"Number of original test examples:\", len(x_test_complete))"
   ]
  },
  {
   "cell_type": "code",
   "execution_count": 95,
   "metadata": {},
   "outputs": [],
   "source": [
    "def filter_36(x, y):\n",
    "    keep = (y == 3) | (y == 6)\n",
    "    x, y = x[keep], y[keep]\n",
    "    y = y == 3\n",
    "    return x,y"
   ]
  },
  {
   "cell_type": "code",
   "execution_count": 96,
   "metadata": {},
   "outputs": [
    {
     "name": "stdout",
     "output_type": "stream",
     "text": [
      "Number of filtered training examples: 12049\n",
      "Number of filtered test examples: 1968\n"
     ]
    }
   ],
   "source": [
    "x_train, y_train = filter_36(x_train, y_train)\n",
    "x_test, y_test = filter_36(x_test, y_test)\n",
    "\n",
    "print(\"Number of filtered training examples:\", len(x_train))\n",
    "print(\"Number of filtered test examples:\", len(x_test))"
   ]
  },
  {
   "cell_type": "code",
   "execution_count": 97,
   "metadata": {},
   "outputs": [],
   "source": [
    "THRESHOLD = 0.5\n",
    "import numpy as np\n",
    "import numpy\n",
    "#binarizing the image 0, 1\n",
    "x_train = numpy.array(x_train > THRESHOLD, dtype=np.float32)\n",
    "x_test = numpy.array(x_test > THRESHOLD, dtype=np.float32)\n",
    "\n",
    "y_train = numpy.array(y_train > THRESHOLD, dtype=np.float32)\n",
    "y_test = numpy.array(y_test > THRESHOLD, dtype=np.float32)"
   ]
  },
  {
   "cell_type": "code",
   "execution_count": 98,
   "metadata": {},
   "outputs": [],
   "source": [
    "mnist_train=(x_train,y_train)"
   ]
  },
  {
   "cell_type": "code",
   "execution_count": 99,
   "metadata": {},
   "outputs": [
    {
     "name": "stdout",
     "output_type": "stream",
     "text": [
      "(12040, 28, 28)\n"
     ]
    }
   ],
   "source": [
    "print(mnist_train[0][:12040,:,:].shape)"
   ]
  },
  {
   "cell_type": "code",
   "execution_count": 100,
   "metadata": {},
   "outputs": [],
   "source": [
    "bbrbm = RBM(n_visible=784, n_hidden=64, learning_rate=0.01,momentum=0.95,use_tqdm=True)"
   ]
  },
  {
   "cell_type": "code",
   "execution_count": 101,
   "metadata": {},
   "outputs": [
    {
     "name": "stdout",
     "output_type": "stream",
     "text": [
      "Epoch: 0\n",
      "Epoch: 0: 100%|####################################################################| 1204/1204 [00:34<00:00, 35.21it/s]\n",
      "Train error: 0.0703\n",
      "\n",
      "Epoch: 1\n",
      "Epoch: 1: 100%|####################################################################| 1204/1204 [00:34<00:00, 35.18it/s]\n",
      "Train error: 0.0515\n",
      "\n",
      "Epoch: 2\n",
      "Epoch: 2: 100%|####################################################################| 1204/1204 [00:34<00:00, 34.89it/s]\n",
      "Train error: 0.0463\n",
      "\n",
      "Epoch: 3\n",
      "Epoch: 3: 100%|####################################################################| 1204/1204 [00:34<00:00, 35.15it/s]\n",
      "Train error: 0.0429\n",
      "\n",
      "Epoch: 4\n",
      "Epoch: 4: 100%|####################################################################| 1204/1204 [00:34<00:00, 35.01it/s]\n",
      "Train error: 0.0405\n",
      "\n",
      "Epoch: 5\n",
      "Epoch: 5: 100%|####################################################################| 1204/1204 [00:34<00:00, 34.96it/s]\n",
      "Train error: 0.0387\n",
      "\n",
      "Epoch: 6\n",
      "Epoch: 6: 100%|####################################################################| 1204/1204 [00:34<00:00, 35.10it/s]\n",
      "Train error: 0.0374\n",
      "\n",
      "Epoch: 7\n",
      "Epoch: 7: 100%|####################################################################| 1204/1204 [00:34<00:00, 35.05it/s]\n",
      "Train error: 0.0362\n",
      "\n",
      "Epoch: 8\n",
      "Epoch: 8: 100%|####################################################################| 1204/1204 [00:35<00:00, 33.64it/s]\n",
      "Train error: 0.0353\n",
      "\n",
      "Epoch: 9\n",
      "Epoch: 9: 100%|####################################################################| 1204/1204 [00:34<00:00, 34.72it/s]\n",
      "Train error: 0.0346\n",
      "\n"
     ]
    }
   ],
   "source": [
    "err=bbrbm.fit(mnist_train[0][:12040,:,:])"
   ]
  },
  {
   "cell_type": "code",
   "execution_count": 102,
   "metadata": {},
   "outputs": [
    {
     "data": {
      "image/png": "[encoded data removed]",
      "text/plain": [
       "<Figure size 432x288 with 1 Axes>"
      ]
     },
     "metadata": {
      "needs_background": "light"
     },
     "output_type": "display_data"
    }
   ],
   "source": [
    "plt.plot(err)\n",
    "\n",
    "plt.xlabel(\"Sample size 3 and 6\")\n",
    "plt.ylabel(\"Training error\")\n",
    "plt.grid(True)\n",
    "plt.show()"
   ]
  },
  {
   "cell_type": "code",
   "execution_count": 103,
   "metadata": {},
   "outputs": [
    {
     "name": "stdout",
     "output_type": "stream",
     "text": [
      "(1, 784)\n"
     ]
    }
   ],
   "source": [
    "x=x_test[0].reshape(1,28*28)\n",
    "test_image=bbrbm.reconstruct(x)\n",
    "print(test_image.shape)"
   ]
  },
  {
   "cell_type": "code",
   "execution_count": 104,
   "metadata": {},
   "outputs": [],
   "source": [
    "def show_digit(insert):\n",
    "    plt.imshow(tf.reshape(insert,(28, 28)), cmap=plt.cm.gray)\n",
    "    plt.show()"
   ]
  },
  {
   "cell_type": "code",
   "execution_count": 105,
   "metadata": {},
   "outputs": [
    {
     "data": {
      "image/png": "[encoded data removed]",
      "text/plain": [
       "<Figure size 432x288 with 1 Axes>"
      ]
     },
     "metadata": {
      "needs_background": "light"
     },
     "output_type": "display_data"
    },
    {
     "data": {
      "image/png": "[encoded data removed]",
      "text/plain": [
       "<Figure size 432x288 with 1 Axes>"
      ]
     },
     "metadata": {
      "needs_background": "light"
     },
     "output_type": "display_data"
    }
   ],
   "source": [
    "THRESHOLD = 0.5\n",
    "import numpy as np\n",
    "import numpy\n",
    "#binarizing the image 0, 1\n",
    "x_test = numpy.array(test_image > THRESHOLD, dtype=np.float32)\n",
    "show_digit(test_image)\n",
    "show_digit(x)"
   ]
  },
  {
   "cell_type": "code",
   "execution_count": 107,
   "metadata": {},
   "outputs": [],
   "source": [
    "cross_entropy=bbrbm.get_reconstruction_cross_entropy(x)"
   ]
  },
  {
   "cell_type": "code",
   "execution_count": 108,
   "metadata": {},
   "outputs": [
    {
     "name": "stdout",
     "output_type": "stream",
     "text": [
      "tf.Tensor(124.198875, shape=(), dtype=float32)\n"
     ]
    }
   ],
   "source": [
    "print(cross_entropy)"
   ]
  }
 ],
 "metadata": {
  "kernelspec": {
   "display_name": "Python 3",
   "language": "python",
   "name": "python3"
  },
  "language_info": {
   "codemirror_mode": {
    "name": "ipython",
    "version": 3
   },
   "file_extension": ".py",
   "mimetype": "text/x-python",
   "name": "python",
   "nbconvert_exporter": "python",
   "pygments_lexer": "ipython3",
   "version": "3.7.4"
  }
 },
 "nbformat": 4,
 "nbformat_minor": 2
}
