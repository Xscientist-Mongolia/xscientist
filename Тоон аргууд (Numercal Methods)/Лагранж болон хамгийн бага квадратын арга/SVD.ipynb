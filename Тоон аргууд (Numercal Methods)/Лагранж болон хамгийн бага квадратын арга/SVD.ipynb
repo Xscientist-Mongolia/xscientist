{
 "cells": [
  {
   "cell_type": "code",
   "execution_count": 36,
   "metadata": {},
   "outputs": [],
   "source": [
    "import numpy.linalg as linalg\n",
    "import numpy as np"
   ]
  },
  {
   "cell_type": "markdown",
   "metadata": {},
   "source": [
    "## Дурын матрицын Онцгой Утгын Задралыг авч үзэе. "
   ]
  },
  {
   "cell_type": "code",
   "execution_count": 37,
   "metadata": {},
   "outputs": [],
   "source": [
    "A = np.random.randn(3, 4) "
   ]
  },
  {
   "cell_type": "markdown",
   "metadata": {},
   "source": [
    "Өгөгдсөн матриц нь:"
   ]
  },
  {
   "cell_type": "code",
   "execution_count": 38,
   "metadata": {},
   "outputs": [
    {
     "name": "stdout",
     "output_type": "stream",
     "text": [
      "[[-0.79164636  0.00898644  0.66668641 -0.80577924]\n",
      " [ 0.18219955  0.04515089 -0.31628269  1.64914704]\n",
      " [ 0.62033301 -0.54341104 -0.87410559 -0.67716419]]\n"
     ]
    }
   ],
   "source": [
    "print(A)"
   ]
  },
  {
   "cell_type": "markdown",
   "metadata": {},
   "source": [
    "Тэгвэл матриц $ A=Q_1 \\Sigma Q_2^T$ нь:"
   ]
  },
  {
   "cell_type": "code",
   "execution_count": 42,
   "metadata": {},
   "outputs": [],
   "source": [
    "Q1, Sigma, Q2_T = linalg.svd(A, full_matrices=True)"
   ]
  },
  {
   "cell_type": "code",
   "execution_count": 43,
   "metadata": {},
   "outputs": [
    {
     "name": "stdout",
     "output_type": "stream",
     "text": [
      "[[ 0.54737268  0.4417076  -0.71082877]\n",
      " [-0.82363009  0.13373172 -0.55113455]\n",
      " [ 0.14837997 -0.88713597 -0.43700476]]\n"
     ]
    }
   ],
   "source": [
    "print(Q1)"
   ]
  },
  {
   "cell_type": "code",
   "execution_count": 44,
   "metadata": {},
   "outputs": [
    {
     "name": "stdout",
     "output_type": "stream",
     "text": [
      "[2.02712881 1.51045362 0.29578851]\n"
     ]
    }
   ],
   "source": [
    "print(Sigma)"
   ]
  },
  {
   "cell_type": "code",
   "execution_count": 45,
   "metadata": {},
   "outputs": [
    {
     "name": "stdout",
     "output_type": "stream",
     "text": [
      "[[-0.24238501 -0.05569454  0.24454594 -0.93720057]\n",
      " [-0.57971332  0.32578754  0.68034789  0.30809365]\n",
      " [ 0.64647565  0.69712368  0.27858668 -0.13593115]\n",
      " [-0.43272533  0.63622259 -0.63222899 -0.09086318]]\n"
     ]
    }
   ],
   "source": [
    "print(Q2_T)"
   ]
  }
 ],
 "metadata": {
  "kernelspec": {
   "display_name": "Python 3",
   "language": "python",
   "name": "python3"
  },
  "language_info": {
   "codemirror_mode": {
    "name": "ipython",
    "version": 3
   },
   "file_extension": ".py",
   "mimetype": "text/x-python",
   "name": "python",
   "nbconvert_exporter": "python",
   "pygments_lexer": "ipython3",
   "version": "3.7.3"
  }
 },
 "nbformat": 4,
 "nbformat_minor": 2
}
