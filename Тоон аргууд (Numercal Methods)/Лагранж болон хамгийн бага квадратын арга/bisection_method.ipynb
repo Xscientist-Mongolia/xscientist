{
 "cells": [
  {
   "cell_type": "code",
   "execution_count": 1,
   "metadata": {},
   "outputs": [],
   "source": [
    "import numpy as np\n",
    "import math as m"
   ]
  },
  {
   "cell_type": "code",
   "execution_count": 95,
   "metadata": {},
   "outputs": [],
   "source": [
    "def fnc(x):\n",
    "    return 2*x**3-x**2+x-1 \n",
    "def fnc_cosh(x):\n",
    "    return 2*m.cosh(x/4)-x "
   ]
  },
  {
   "cell_type": "code",
   "execution_count": 102,
   "metadata": {},
   "outputs": [],
   "source": [
    "N_max=6\n",
    "tol=10**(-4)\n",
    "a=0\n",
    "b=10\n",
    "k=1\n",
    "FA=fnc_cosh(a)"
   ]
  },
  {
   "cell_type": "code",
   "execution_count": 101,
   "metadata": {},
   "outputs": [
    {
     "name": "stdout",
     "output_type": "stream",
     "text": [
      "-1.2231522456779684\n",
      "-0.0964926140487874\n",
      "0.8484535701204381\n",
      "0.3487794595552245\n",
      "0.1191006551396474\n",
      "0.009508398562045883\n"
     ]
    }
   ],
   "source": [
    "while k<=N_max:\n",
    "    xk=(a+b)/2\n",
    "    Fx=fnc_cosh(xk)\n",
    "    print(Fx)\n",
    "    if Fx==0 or (b-a)/2<tol:\n",
    "        print(xk)\n",
    "        break\n",
    "    k=k+1\n",
    "    if FA*Fx>0:\n",
    "        a=xk\n",
    "        FA=Fx\n",
    "    else:\n",
    "        b=xk"
   ]
  },
  {
   "cell_type": "code",
   "execution_count": 97,
   "metadata": {},
   "outputs": [
    {
     "name": "stdout",
     "output_type": "stream",
     "text": [
      "-1.2231522456779684\n",
      "-0.0964926140487874\n",
      "0.8484535701204381\n",
      "0.3487794595552245\n",
      "0.1191006551396474\n",
      "0.009508398562045883\n"
     ]
    }
   ],
   "source": [
    "#Bisection with another terminating condition ETH\n",
    "while (b-a)>(10/2**6) and k<=N_max:\n",
    "    xk=(a+b)/2\n",
    "    Fx=fnc_cosh(xk)\n",
    "    print(Fx)\n",
    "    if FA*Fx>0:\n",
    "        a=xk\n",
    "        FA=Fx\n",
    "    else:\n",
    "        b=xk\n",
    "    k=k+1    "
   ]
  }
 ],
 "metadata": {
  "kernelspec": {
   "display_name": "Python 3",
   "language": "python",
   "name": "python3"
  },
  "language_info": {
   "codemirror_mode": {
    "name": "ipython",
    "version": 3
   },
   "file_extension": ".py",
   "mimetype": "text/x-python",
   "name": "python",
   "nbconvert_exporter": "python",
   "pygments_lexer": "ipython3",
   "version": "3.7.3"
  }
 },
 "nbformat": 4,
 "nbformat_minor": 2
}
