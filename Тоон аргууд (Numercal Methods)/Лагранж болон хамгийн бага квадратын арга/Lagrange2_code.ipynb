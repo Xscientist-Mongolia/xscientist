{
 "cells": [
  {
   "cell_type": "code",
   "execution_count": 1,
   "metadata": {},
   "outputs": [],
   "source": [
    "import numpy as np\n",
    "import matplotlib.pyplot as plt"
   ]
  },
  {
   "cell_type": "code",
   "execution_count": 2,
   "metadata": {},
   "outputs": [],
   "source": [
    "def lk(x,y,z):\n",
    "    s=0\n",
    "    for k in range(0,len(x)):\n",
    "        m=1\n",
    "        for i in range(0,len(x)):\n",
    "            if i!=k:\n",
    "                m=m*(z-x[i])/(x[k]-x[i])\n",
    "            else:\n",
    "                continue\n",
    "        s=s+y[k]*m\n",
    "    return s    "
   ]
  },
  {
   "cell_type": "code",
   "execution_count": 3,
   "metadata": {},
   "outputs": [],
   "source": [
    "x=np.arange(-1,10,1)\n",
    "y=x**3\n",
    "LagrangeFunction=[]\n",
    "MiddlePoins=[]\n",
    "MiddlePoint=-0.5\n",
    "for i in range(0,len(x)):\n",
    "    LagrangeFunction.append(lk(x,y,MiddlePoint))\n",
    "    MiddlePoins.append(MiddlePoint)\n",
    "    MiddlePoint=MiddlePoint+1"
   ]
  },
  {
   "cell_type": "code",
   "execution_count": 4,
   "metadata": {},
   "outputs": [
    {
     "name": "stdout",
     "output_type": "stream",
     "text": [
      "[-1  0  1  2  3  4  5  6  7  8  9] (11,)\n"
     ]
    }
   ],
   "source": [
    "print(x, x.shape)"
   ]
  },
  {
   "cell_type": "code",
   "execution_count": 5,
   "metadata": {},
   "outputs": [
    {
     "name": "stdout",
     "output_type": "stream",
     "text": [
      "[ -1   0   1   8  27  64 125 216 343 512 729] (11,)\n"
     ]
    }
   ],
   "source": [
    "print(y, y.shape)"
   ]
  },
  {
   "cell_type": "code",
   "execution_count": 6,
   "metadata": {},
   "outputs": [],
   "source": [
    "MiddlePoins=np.array(MiddlePoins)\n",
    "y_estimated=np.array(LagrangeFunction)"
   ]
  },
  {
   "cell_type": "code",
   "execution_count": null,
   "metadata": {},
   "outputs": [],
   "source": [
    "print(MiddlePoins)"
   ]
  }
 ],
 "metadata": {
  "kernelspec": {
   "display_name": "Python 3",
   "language": "python",
   "name": "python3"
  },
  "language_info": {
   "codemirror_mode": {
    "name": "ipython",
    "version": 3
   },
   "file_extension": ".py",
   "mimetype": "text/x-python",
   "name": "python",
   "nbconvert_exporter": "python",
   "pygments_lexer": "ipython3",
   "version": "3.7.3"
  }
 },
 "nbformat": 4,
 "nbformat_minor": 2
}
