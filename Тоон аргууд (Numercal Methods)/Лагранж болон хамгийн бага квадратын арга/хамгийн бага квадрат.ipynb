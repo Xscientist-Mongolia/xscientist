{
 "cells": [
  {
   "cell_type": "code",
   "execution_count": 1,
   "metadata": {},
   "outputs": [],
   "source": [
    "import numpy as np\n",
    "import matplotlib.pyplot as plt"
   ]
  },
  {
   "cell_type": "markdown",
   "metadata": {},
   "source": [
    "# Хамгийн бага квадратын арга (Least Squares Method)"
   ]
  },
  {
   "cell_type": "markdown",
   "metadata": {},
   "source": [
    "Өгөгдсөн өгөгдөл y-д харгалзах z-ын утга нь шугаман хамааралтай гэж үзэж доорх жишээг сонирхоё $$ y\\in (0,10), \\quad  z=0.5\\cdot y-1.$$     "
   ]
  },
  {
   "cell_type": "code",
   "execution_count": 30,
   "metadata": {},
   "outputs": [],
   "source": [
    "y=[]\n",
    "z=[]\n",
    "\n",
    "for i in range(0,10):\n",
    "    y.append(i)\n",
    "    z.append(0.5*i-1)\n",
    "    \n",
    "y=np.array(y).reshape(10,1)\n",
    "z=np.array(z).reshape(10,1)"
   ]
  },
  {
   "cell_type": "markdown",
   "metadata": {},
   "source": [
    "Бидний зорилго бол дээр боловсруулсан аргыг ашиглан өгөгдсөн жишээний $ (0.5,-1)$ утгыг олох юм. $y$-д харгалзах $z$ өгөгдөл нь,"
   ]
  },
  {
   "cell_type": "code",
   "execution_count": 33,
   "metadata": {},
   "outputs": [
    {
     "name": "stdout",
     "output_type": "stream",
     "text": [
      "[[-1. ]\n",
      " [-0.5]\n",
      " [ 0. ]\n",
      " [ 0.5]\n",
      " [ 1. ]\n",
      " [ 1.5]\n",
      " [ 2. ]\n",
      " [ 2.5]\n",
      " [ 3. ]\n",
      " [ 3.5]]\n"
     ]
    }
   ],
   "source": [
    "print(z)"
   ]
  },
  {
   "cell_type": "markdown",
   "metadata": {},
   "source": [
    "Тэгшитгэл 12 ийн матрицийг А гэж тэмдэглэе\n",
    "\\begin{equation}A=\n",
    "    \\begin{pmatrix}\n",
    "    N & \\sum_i^N y_i \\\\\n",
    "    \\sum_i^N y_i & \\sum_i^N y_i^2 \n",
    "    \\end{pmatrix}\n",
    "\\end{equation}\n",
    "бөгөөд харгалзах элементийн утгыг нь олоё."
   ]
  },
  {
   "cell_type": "code",
   "execution_count": 38,
   "metadata": {},
   "outputs": [],
   "source": [
    "A=np.zeros([2,2])\n",
    "A[0,0]=len(y)\n",
    "A[0,1]=sum(y)\n",
    "A[1,0]=sum(y)\n",
    "A[1,1]=sum(y**2)"
   ]
  },
  {
   "cell_type": "code",
   "execution_count": 39,
   "metadata": {},
   "outputs": [
    {
     "name": "stdout",
     "output_type": "stream",
     "text": [
      "[[ 10.  45.]\n",
      " [ 45. 285.]]\n"
     ]
    }
   ],
   "source": [
    "print(A)"
   ]
  },
  {
   "cell_type": "markdown",
   "metadata": {},
   "source": [
    "Тэгшитгэл 12-ийн баруун талын матрицийг Y гэж тэмдэглэн харгалзах элементүүдийг нь олоё,\n",
    "\\begin{equation}Y=\n",
    "    \\begin{pmatrix}\n",
    "    \\sum_i^N z_i \\\\\n",
    "    \\sum_i^N y_i z_i \n",
    "    \\end{pmatrix}.\n",
    "\\end{equation}"
   ]
  },
  {
   "cell_type": "code",
   "execution_count": 40,
   "metadata": {},
   "outputs": [],
   "source": [
    "s=0\n",
    "for i in range(0,10):\n",
    "    s+=y[i]*z[i]"
   ]
  },
  {
   "cell_type": "code",
   "execution_count": 41,
   "metadata": {},
   "outputs": [
    {
     "name": "stdout",
     "output_type": "stream",
     "text": [
      "[97.5]\n"
     ]
    }
   ],
   "source": [
    "print(s)"
   ]
  },
  {
   "cell_type": "code",
   "execution_count": 42,
   "metadata": {},
   "outputs": [],
   "source": [
    "Y=np.zeros([2,1])\n",
    "Y[0,0]=sum(z)\n",
    "Y[1,0]=s"
   ]
  },
  {
   "cell_type": "code",
   "execution_count": 43,
   "metadata": {},
   "outputs": [
    {
     "name": "stdout",
     "output_type": "stream",
     "text": [
      "[[12.5]\n",
      " [97.5]]\n"
     ]
    }
   ],
   "source": [
    "print(Y)"
   ]
  },
  {
   "cell_type": "markdown",
   "metadata": {},
   "source": [
    "Одоо тэгшитгэл 9-ийн дагуу параметрийг $(\\bar{C},\\bar{D})$ олоё.\n",
    "\\begin{equation}res=\n",
    "    \\begin{pmatrix}\n",
    "    \\bar{C}\\\\\n",
    "    \\bar{D}\n",
    "    \\end{pmatrix}.\n",
    "\\end{equation}"
   ]
  },
  {
   "cell_type": "code",
   "execution_count": 25,
   "metadata": {},
   "outputs": [],
   "source": [
    "from numpy.linalg import inv\n",
    "inv_A=inv(A)\n",
    "res=np.matmul(inv_A,Y)"
   ]
  },
  {
   "cell_type": "code",
   "execution_count": 26,
   "metadata": {},
   "outputs": [
    {
     "name": "stdout",
     "output_type": "stream",
     "text": [
      "[[-1. ]\n",
      " [ 0.5]]\n"
     ]
    }
   ],
   "source": [
    "print(res)"
   ]
  }
 ],
 "metadata": {
  "kernelspec": {
   "display_name": "Python 3",
   "language": "python",
   "name": "python3"
  },
  "language_info": {
   "codemirror_mode": {
    "name": "ipython",
    "version": 3
   },
   "file_extension": ".py",
   "mimetype": "text/x-python",
   "name": "python",
   "nbconvert_exporter": "python",
   "pygments_lexer": "ipython3",
   "version": "3.7.3"
  }
 },
 "nbformat": 4,
 "nbformat_minor": 2
}
