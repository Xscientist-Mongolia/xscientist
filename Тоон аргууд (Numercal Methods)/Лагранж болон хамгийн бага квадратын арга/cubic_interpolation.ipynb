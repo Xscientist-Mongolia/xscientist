{
 "cells": [
  {
   "cell_type": "code",
   "execution_count": 131,
   "metadata": {},
   "outputs": [],
   "source": [
    "from scipy.interpolate import CubicSpline\n",
    "import matplotlib.pyplot as plt\n",
    "import pandas as pd\n",
    "import numpy as np"
   ]
  },
  {
   "cell_type": "code",
   "execution_count": 132,
   "metadata": {},
   "outputs": [],
   "source": [
    "data = pd.read_csv('spline_4nodes.txt',sep=\" \", header = None)\n",
    "dat = pd.read_csv('4nodes.txt',sep=\" \", header = None)"
   ]
  },
  {
   "cell_type": "markdown",
   "metadata": {},
   "source": [
    "4-н цэг өгөгдсөн $(x_i,y_i)$ (дата файл: 4nodes.txt)"
   ]
  },
  {
   "cell_type": "code",
   "execution_count": 133,
   "metadata": {},
   "outputs": [],
   "source": [
    "dat=dat.values\n",
    "#print(dat)"
   ]
  },
  {
   "cell_type": "markdown",
   "metadata": {},
   "source": [
    "100-н цэг $(x_i,x_{i+1})$ ба $(y_i,y_{i+1})$ завсар бүрт өгөгдсөн (дата файл: spline_4nodes.txt)."
   ]
  },
  {
   "cell_type": "code",
   "execution_count": 134,
   "metadata": {},
   "outputs": [],
   "source": [
    "data=data.values\n",
    "#print(np.around(data,2))"
   ]
  },
  {
   "cell_type": "markdown",
   "metadata": {},
   "source": [
    "# Өгөгдөлийг ойролцоолох 3р эрэмбийн полиномиал функц (тэгшитгэл 8,9 ба 3-ийг ашиглана). "
   ]
  },
  {
   "cell_type": "code",
   "execution_count": 135,
   "metadata": {},
   "outputs": [],
   "source": [
    "cs = CubicSpline(data[:,0], data[:,1])\n",
    "cs1 = CubicSpline(dat[:,0], dat[:,1])"
   ]
  },
  {
   "cell_type": "markdown",
   "metadata": {},
   "source": [
    "$f$ нь 4-н цэгийг, $f_1$ нь 100-н цэгийг ойролцоолох функцүүд."
   ]
  },
  {
   "cell_type": "code",
   "execution_count": 137,
   "metadata": {},
   "outputs": [
    {
     "data": {
      "image/png": "[encoded data removed]",
      "text/plain": [
       "<Figure size 468x288 with 1 Axes>"
      ]
     },
     "metadata": {
      "needs_background": "light"
     },
     "output_type": "display_data"
    }
   ],
   "source": [
    "xs = np.arange(0, 3.5, 0.1)\n",
    "plt.figure(figsize=(6.5, 4))\n",
    "plt.plot(dat[:,0], dat[:,1], 'o', label='data')\n",
    "plt.plot(xs, cs(xs), label=\"f\")\n",
    "#plt.plot(xs, cs1(xs), label=\"f1\")\n",
    "plt.xlim(0, 3)\n",
    "plt.legend(loc='lower left', ncol=2)\n",
    "#plt.show()\n",
    "plt.savefig('cubik_poly.png')"
   ]
  },
  {
   "cell_type": "code",
   "execution_count": 129,
   "metadata": {},
   "outputs": [
    {
     "data": {
      "text/plain": [
       "<Figure size 432x288 with 0 Axes>"
      ]
     },
     "metadata": {},
     "output_type": "display_data"
    }
   ],
   "source": []
  }
 ],
 "metadata": {
  "kernelspec": {
   "display_name": "Python 3",
   "language": "python",
   "name": "python3"
  },
  "language_info": {
   "codemirror_mode": {
    "name": "ipython",
    "version": 3
   },
   "file_extension": ".py",
   "mimetype": "text/x-python",
   "name": "python",
   "nbconvert_exporter": "python",
   "pygments_lexer": "ipython3",
   "version": "3.7.3"
  }
 },
 "nbformat": 4,
 "nbformat_minor": 2
}
