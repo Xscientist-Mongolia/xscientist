{
  "nbformat": 4,
  "nbformat_minor": 0,
  "metadata": {
    "colab": {
      "name": "example_nn.ipynb",
      "provenance": [],
      "collapsed_sections": []
    },
    "kernelspec": {
      "name": "python3",
      "display_name": "Python 3"
    }
  },
  "cells": [
    {
      "cell_type": "code",
      "metadata": {
        "id": "lA96niQXIWKl",
        "colab_type": "code",
        "colab": {}
      },
      "source": [
        "import numpy as np\n",
        "import tensorflow as tf\n",
        "import torch\n",
        "from random import randint, seed\n",
        "from tensorflow.keras import layers\n",
        "from tensorflow import keras"
      ],
      "execution_count": 0,
      "outputs": []
    },
    {
      "cell_type": "markdown",
      "metadata": {
        "id": "OesjlmofWl6I",
        "colab_type": "text"
      },
      "source": [
        "Нейроны сүлжээг тооцохын тулд хамгийн эхэлж **оролт**, **нуугдсан давхарга** болон **гаралтын давхаргууд**ыг тодорхойлж өгөх хэрэгтэй. Түүнээс гадна эхний **жин** $w_t$ нь санамсаргүй өгөгдсөн болно. **Эхний жин**г нь дундаж квадрат үнийн функц ашиглаж өөрчилөх болно; \n",
        "\n",
        "$w_{t+1}=w_t+\\sum_i^n (y_i -f(x_i))^2.$\n",
        "\n",
        "Бидний авч үзэж буй жишээний хувьд оролт ба гаралтын утга нь мэдэгдэж байгаа, бөгөөд бидний зорилго бол оролт болон гаралтын хамаарлын нейрон моделийг боловсруулах гэж үзэе. "
      ]
    },
    {
      "cell_type": "code",
      "metadata": {
        "id": "kAD_TcVyJARk",
        "colab_type": "code",
        "colab": {}
      },
      "source": [
        "оролт = keras.Input(shape=(3,), name='vector')\n",
        "x = layers.Dense(4, activation='relu')(оролт)\n",
        "x = layers.Dense(4, activation='relu')(x)\n",
        "x = layers.Dense(4, activation='relu')(x)\n",
        "гаралт = layers.Dense(3,activation='sigmoid')(x)\n",
        "\n",
        "model = keras.Model(inputs=оролт, outputs=гаралт, name='NN example')"
      ],
      "execution_count": 0,
      "outputs": []
    },
    {
      "cell_type": "code",
      "metadata": {
        "id": "sY4sjpyqL6Co",
        "colab_type": "code",
        "colab": {
          "base_uri": "https://localhost:8080/",
          "height": 339
        },
        "outputId": "c1d72a7a-4883-41fa-927d-eb5adf32e780"
      },
      "source": [
        "model.summary()"
      ],
      "execution_count": 81,
      "outputs": [
        {
          "output_type": "stream",
          "text": [
            "Model: \"NN example\"\n",
            "_________________________________________________________________\n",
            "Layer (type)                 Output Shape              Param #   \n",
            "=================================================================\n",
            "vector (InputLayer)          [(None, 3)]               0         \n",
            "_________________________________________________________________\n",
            "dense_33 (Dense)             (None, 4)                 16        \n",
            "_________________________________________________________________\n",
            "dense_34 (Dense)             (None, 4)                 20        \n",
            "_________________________________________________________________\n",
            "dense_35 (Dense)             (None, 4)                 20        \n",
            "_________________________________________________________________\n",
            "dense_36 (Dense)             (None, 3)                 15        \n",
            "=================================================================\n",
            "Total params: 71\n",
            "Trainable params: 71\n",
            "Non-trainable params: 0\n",
            "_________________________________________________________________\n"
          ],
          "name": "stdout"
        }
      ]
    },
    {
      "cell_type": "code",
      "metadata": {
        "id": "VktOFZ_QMIWK",
        "colab_type": "code",
        "colab": {
          "base_uri": "https://localhost:8080/",
          "height": 466
        },
        "outputId": "66e1cd1a-cf77-48be-ed32-1a80564214d0"
      },
      "source": [
        "keras.utils.plot_model(model, 'my_first_nn.png')"
      ],
      "execution_count": 72,
      "outputs": [
        {
          "output_type": "execute_result",
          "data": {
            "image/png": "[encoded data removed]",
            "text/plain": [
              "<IPython.core.display.Image object>"
            ]
          },
          "metadata": {
            "tags": []
          },
          "execution_count": 72
        }
      ]
    },
    {
      "cell_type": "code",
      "metadata": {
        "id": "4A8mLbLtMVIr",
        "colab_type": "code",
        "colab": {
          "base_uri": "https://localhost:8080/",
          "height": 533
        },
        "outputId": "baaceb00-cfd7-446e-a3a9-66fff9b44547"
      },
      "source": [
        "keras.utils.plot_model(model, 'my_first_NNmodel_with_shape_info.png', show_shapes=True)"
      ],
      "execution_count": 73,
      "outputs": [
        {
          "output_type": "execute_result",
          "data": {
            "image/png": "[encoded data removed]",
            "text/plain": [
              "<IPython.core.display.Image object>"
            ]
          },
          "metadata": {
            "tags": []
          },
          "execution_count": 73
        }
      ]
    },
    {
      "cell_type": "code",
      "metadata": {
        "id": "VfGgMHTvMg2I",
        "colab_type": "code",
        "colab": {
          "base_uri": "https://localhost:8080/",
          "height": 35
        },
        "outputId": "0a78398a-0865-4577-c374-056bb03f668b"
      },
      "source": [
        "x_train=np.array([7,1,-4]).reshape(1,3)\n",
        "y_train = np.array([0.868,0.017, 0.115]).reshape(1,3)\n",
        "print(x_train.shape, y_train.shape)"
      ],
      "execution_count": 74,
      "outputs": [
        {
          "output_type": "stream",
          "text": [
            "(1, 3) (1, 3)\n"
          ],
          "name": "stdout"
        }
      ]
    },
    {
      "cell_type": "code",
      "metadata": {
        "id": "54CNSEHwPHrb",
        "colab_type": "code",
        "colab": {
          "base_uri": "https://localhost:8080/",
          "height": 750
        },
        "outputId": "15b13e39-b920-4cf6-cb38-ef7d5a1d0918"
      },
      "source": [
        "model.compile('sgd', loss=tf.keras.losses.MeanSquaredError())\n",
        "history = model.fit(x_train, y_train,epochs=20)"
      ],
      "execution_count": 75,
      "outputs": [
        {
          "output_type": "stream",
          "text": [
            "Train on 1 samples\n",
            "Epoch 1/20\n",
            "1/1 [==============================] - 0s 313ms/sample - loss: 0.0071\n",
            "Epoch 2/20\n",
            "1/1 [==============================] - 0s 2ms/sample - loss: 0.0071\n",
            "Epoch 3/20\n",
            "1/1 [==============================] - 0s 2ms/sample - loss: 0.0071\n",
            "Epoch 4/20\n",
            "1/1 [==============================] - 0s 2ms/sample - loss: 0.0071\n",
            "Epoch 5/20\n",
            "1/1 [==============================] - 0s 2ms/sample - loss: 0.0071\n",
            "Epoch 6/20\n",
            "1/1 [==============================] - 0s 2ms/sample - loss: 0.0071\n",
            "Epoch 7/20\n",
            "1/1 [==============================] - 0s 2ms/sample - loss: 0.0071\n",
            "Epoch 8/20\n",
            "1/1 [==============================] - 0s 1ms/sample - loss: 0.0070\n",
            "Epoch 9/20\n",
            "1/1 [==============================] - 0s 1ms/sample - loss: 0.0070\n",
            "Epoch 10/20\n",
            "1/1 [==============================] - 0s 2ms/sample - loss: 0.0070\n",
            "Epoch 11/20\n",
            "1/1 [==============================] - 0s 1ms/sample - loss: 0.0070\n",
            "Epoch 12/20\n",
            "1/1 [==============================] - 0s 1ms/sample - loss: 0.0070\n",
            "Epoch 13/20\n",
            "1/1 [==============================] - 0s 2ms/sample - loss: 0.0070\n",
            "Epoch 14/20\n",
            "1/1 [==============================] - 0s 1ms/sample - loss: 0.0070\n",
            "Epoch 15/20\n",
            "1/1 [==============================] - 0s 2ms/sample - loss: 0.0070\n",
            "Epoch 16/20\n",
            "1/1 [==============================] - 0s 2ms/sample - loss: 0.0070\n",
            "Epoch 17/20\n",
            "1/1 [==============================] - 0s 1ms/sample - loss: 0.0070\n",
            "Epoch 18/20\n",
            "1/1 [==============================] - 0s 2ms/sample - loss: 0.0070\n",
            "Epoch 19/20\n",
            "1/1 [==============================] - 0s 1ms/sample - loss: 0.0069\n",
            "Epoch 20/20\n",
            "1/1 [==============================] - 0s 2ms/sample - loss: 0.0069\n"
          ],
          "name": "stdout"
        }
      ]
    },
    {
      "cell_type": "markdown",
      "metadata": {
        "id": "Z0NLIQdtez0I",
        "colab_type": "text"
      },
      "source": [
        "Шинэ датаг боловсруулсан Нейрон Моделын оролтонд өгөхөд, гаралтын утгыг хэрхэн таамаглаж гаргахыг сонирхоё. "
      ]
    },
    {
      "cell_type": "code",
      "metadata": {
        "id": "MX07kFDqUYrr",
        "colab_type": "code",
        "colab": {
          "base_uri": "https://localhost:8080/",
          "height": 35
        },
        "outputId": "35d44e36-5786-487d-afdd-edb2c4fe091c"
      },
      "source": [
        "x_test=np.array([5,2,-3]).reshape(1,3)\n",
        "print(x_test.shape)"
      ],
      "execution_count": 76,
      "outputs": [
        {
          "output_type": "stream",
          "text": [
            "(1, 3)\n"
          ],
          "name": "stdout"
        }
      ]
    },
    {
      "cell_type": "code",
      "metadata": {
        "id": "PUY1zYNKVPfO",
        "colab_type": "code",
        "colab": {
          "base_uri": "https://localhost:8080/",
          "height": 71
        },
        "outputId": "cb19be4b-ddf1-412d-fa42-3f59c3811453"
      },
      "source": [
        "print('\\n# Generate predictions for 3 samples')\n",
        "гаралтын_таамаглал = model.predict(x_test)\n",
        "print('predictions shape:', гаралтын_таамаглал.shape)"
      ],
      "execution_count": 82,
      "outputs": [
        {
          "output_type": "stream",
          "text": [
            "\n",
            "# Generate predictions for 3 samples\n",
            "predictions shape: (1, 3)\n"
          ],
          "name": "stdout"
        }
      ]
    },
    {
      "cell_type": "code",
      "metadata": {
        "id": "gANqiNtFWWf7",
        "colab_type": "code",
        "colab": {
          "base_uri": "https://localhost:8080/",
          "height": 35
        },
        "outputId": "583d6b3f-6b8f-4639-b26c-ef311f8e318d"
      },
      "source": [
        "print(гаралтын_таамаглал)"
      ],
      "execution_count": 83,
      "outputs": [
        {
          "output_type": "stream",
          "text": [
            "[[0.5625433  0.49997568 0.552254  ]]\n"
          ],
          "name": "stdout"
        }
      ]
    }
  ]
}